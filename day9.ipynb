{
 "cells": [
  {
   "cell_type": "code",
   "execution_count": 3,
   "metadata": {},
   "outputs": [
    {
     "name": "stdout",
     "output_type": "stream",
     "text": [
      "YOU HAVE ENCOUNTERED ONE MORE ERRORS\n"
     ]
    }
   ],
   "source": [
    "try:\n",
    "  num1 = int(input('Please provide first number'))  \n",
    "  num2 = int(input('Please provide second number'))\n",
    "  option = input('Please pick your opration(+,-,/,*)')\n",
    "  if option == '+':\n",
    "      print(f'{num1} + {num2} = {num1 + num2}')\n",
    "  elif option == '-':\n",
    "      print(f'{num1} - {num2} = {num1 - num2}')\n",
    "  elif option == '/':\n",
    "      print(f'{num1} / {num2} = {num1 / num2}')\n",
    "  elif option == '*':\n",
    "      print(f'{num1} * {num2} = {num1 * num2}')\n",
    "except:\n",
    "    print('YOU HAVE ENCOUNTERED ONE MORE ERRORS')"
   ]
  },
  {
   "cell_type": "code",
   "execution_count": 6,
   "metadata": {},
   "outputs": [
    {
     "name": "stdout",
     "output_type": "stream",
     "text": [
      "5 + 5 = 10\n"
     ]
    }
   ],
   "source": [
    "try:\n",
    "  num1 = int(input('Please provide first number'))  \n",
    "  num2 = int(input('Please provide second number'))\n",
    "  option = input('Please pick your opration(+,-,/,*)')\n",
    "  if option == '+':\n",
    "      print(f'{num1} + {num2} = {num1 + num2}')\n",
    "  elif option == '-':\n",
    "      print(f'{num1} - {num2} = {num1 - num2}')\n",
    "  elif option == '/':\n",
    "      print(f'{num1} / {num2} = {num1 / num2}')\n",
    "  elif option == '*':\n",
    "      print(f'{num1} * {num2} = {num1 * num2}')\n",
    "except ValueError:\n",
    "    print('INTEGER VALUE EXPECTED NOT FLOAT OR STRING')\n",
    "except ZeroDivisionError:\n",
    "    print('SORRY YOU CANNOT DIVIDE A NUMBER BY ZERO')\n",
    "except:\n",
    "    print('YOU HAVE ENCOUNTERED ONE MORE ERRORS')"
   ]
  },
  {
   "cell_type": "code",
   "execution_count": 8,
   "metadata": {},
   "outputs": [
    {
     "name": "stdout",
     "output_type": "stream",
     "text": [
      "5 * 5 = 25\n",
      "5 ** 5=3125\n",
      "END OF PROGRAM\n"
     ]
    }
   ],
   "source": [
    "try:\n",
    "  num1 = int(input('Please provide first number'))  \n",
    "  num2 = int(input('Please provide second number'))\n",
    "  option = input('Please pick your opration(+,-,/,*)')\n",
    "  if option == '+':\n",
    "      print(f'{num1} + {num2} = {num1 + num2}')\n",
    "  elif option == '-':\n",
    "      print(f'{num1} - {num2} = {num1 - num2}')\n",
    "  elif option == '/':\n",
    "      print(f'{num1} / {num2} = {num1 / num2}')\n",
    "  elif option == '*':\n",
    "      print(f'{num1} * {num2} = {num1 * num2}')\n",
    "except ValueError:\n",
    "    print('INTEGER VALUE EXPECTED NOT FLOAT OR STRING')\n",
    "except ZeroDivisionError:\n",
    "    print('SORRY YOU CANNOT DIVIDE A NUMBER BY ZERO')\n",
    "except:\n",
    "    print('YOU HAVE ENCOUNTERED ONE MORE ERRORS')\n",
    "else:\n",
    "    print(f'{num1} ** {num2}={num1 ** num2}')\n",
    "finally:\n",
    "    print('END OF PROGRAM')"
   ]
  },
  {
   "cell_type": "code",
   "execution_count": 9,
   "metadata": {},
   "outputs": [
    {
     "name": "stdout",
     "output_type": "stream",
     "text": [
      "Please turn right to shop 2\n",
      "THANK YOU FOR VISTING OUR MALL\n",
      "END OF PROGRAM\n"
     ]
    }
   ],
   "source": [
    "# USING ERROR HANDLING WRITE A LIFT PROGRAM FOR A MALL HAVING 5 FLOORS AND EACH FLOOR HAVING 3 SHOP SPACE\n",
    "try:\n",
    "    floor_option = input('Press the button to your desired floor:')\n",
    "    if floor_option == '1':\n",
    "        choice = input('shop1 is on the left, shop2 is on the right,shop3 is opposite the lift')\n",
    "        if choice == 'shop1':\n",
    "            print('Please turn left to shop 1')\n",
    "        elif choice == 'shop2':\n",
    "            print('Please turn right to shop 2')\n",
    "        else:\n",
    "            print('Walk directly to shop 3')\n",
    "    elif floor_option == '2':\n",
    "        choice = input('shop1 is on the left, shop2 is on the right,shop3 is opposite the lift')\n",
    "        if choice == 'shop1':\n",
    "            print('Please turn left to shop 1')\n",
    "        elif choice == 'shop2':\n",
    "            print('Please turn right to shop 2')\n",
    "        else:\n",
    "            print('Walk directly to shop 3')\n",
    "    elif floor_option == '3':\n",
    "        choice = input('shop1 is on the left, shop2 is on the right,shop3 is opposite the lift')\n",
    "        if choice == 'shop1':\n",
    "            print('Please turn left to shop 1')\n",
    "        elif choice == 'shop2':\n",
    "            print('Please turn right to shop 2')\n",
    "        else:\n",
    "            print('Walk directly to shop 3')\n",
    "    elif floor_option == '4':\n",
    "        choice = input('shop1 is on the left, shop2 is on the right,shop3 is opposite the lift')\n",
    "        if choice == 'shop1':\n",
    "            print('Please turn left to shop 1')\n",
    "        elif choice == 'shop2':\n",
    "            print('Please turn right to shop 2')\n",
    "        else:\n",
    "            print('Walk directly to shop 3')\n",
    "    elif floor_option == '5':\n",
    "        choice = input('shop1 is on the left, shop2 is on the right,shop3 is opposite the lift')\n",
    "        if choice == 'shop1':\n",
    "            print('Please turn left to shop 1')\n",
    "        elif choice == 'shop2':\n",
    "            print('Please turn right to shop 2')\n",
    "        else:\n",
    "            print('Walk directly to shop 3')\n",
    "    else:\n",
    "        choice = input('shop1 is on the left, shop2 is on the right,shop3 is opposite the lift')\n",
    "        if choice == 'shop1':\n",
    "            print('Please turn left to shop 1')\n",
    "        elif choice == 'shop2':\n",
    "            print('Please turn right to shop 2')\n",
    "        else:\n",
    "            print('Walk directly to shop 3')\n",
    "except ValueError:\n",
    "    print('INTEGER VALUE EXPECTED NOT FLOAT OR STRING')\n",
    "except:\n",
    "    print('YOU HAVE ENCOUNTERED ONE MORE ERRORS')\n",
    "else:\n",
    "    print(f'THANK YOU FOR VISTING OUR MALL')\n",
    "finally:\n",
    "    print('END OF PROGRAM')\n"
   ]
  },
  {
   "cell_type": "code",
   "execution_count": null,
   "metadata": {},
   "outputs": [],
   "source": []
  }
 ],
 "metadata": {
  "kernelspec": {
   "display_name": "Python 3.10.4 64-bit",
   "language": "python",
   "name": "python3"
  },
  "language_info": {
   "codemirror_mode": {
    "name": "ipython",
    "version": 3
   },
   "file_extension": ".py",
   "mimetype": "text/x-python",
   "name": "python",
   "nbconvert_exporter": "python",
   "pygments_lexer": "ipython3",
   "version": "3.10.4"
  },
  "orig_nbformat": 4,
  "vscode": {
   "interpreter": {
    "hash": "97a318a1c10ea3cad32b5f740e8bef65bce9a717407c951d39899fa160feabd9"
   }
  }
 },
 "nbformat": 4,
 "nbformat_minor": 2
}
