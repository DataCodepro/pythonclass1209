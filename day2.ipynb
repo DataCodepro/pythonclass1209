{
 "cells": [
  {
   "cell_type": "code",
   "execution_count": 1,
   "metadata": {},
   "outputs": [
    {
     "name": "stdout",
     "output_type": "stream",
     "text": [
      "Python is fun\n",
      "Python is easy\n",
      "Python has an interactive environment\n",
      "\n"
     ]
    }
   ],
   "source": [
    "word = '''Python is fun\n",
    "Python is easy\n",
    "Python has an interactive environment\n",
    "'''\n",
    "print(word)"
   ]
  },
  {
   "cell_type": "code",
   "execution_count": 3,
   "metadata": {},
   "outputs": [
    {
     "name": "stdout",
     "output_type": "stream",
     "text": [
      "46.0\n"
     ]
    }
   ],
   "source": [
    "num = '46'\n",
    "print(float(num))"
   ]
  },
  {
   "cell_type": "code",
   "execution_count": 4,
   "metadata": {},
   "outputs": [
    {
     "name": "stdout",
     "output_type": "stream",
     "text": [
      "45\n"
     ]
    }
   ],
   "source": [
    "num2 = int(45.6)\n",
    "print(num2)"
   ]
  },
  {
   "cell_type": "code",
   "execution_count": 5,
   "metadata": {},
   "outputs": [
    {
     "name": "stdout",
     "output_type": "stream",
     "text": [
      "45\n"
     ]
    }
   ],
   "source": [
    "print(str(num2))"
   ]
  },
  {
   "cell_type": "code",
   "execution_count": 7,
   "metadata": {},
   "outputs": [
    {
     "name": "stdout",
     "output_type": "stream",
     "text": [
      "<class 'int'>\n"
     ]
    }
   ],
   "source": [
    "age = int(input('Enter your age:'))\n",
    "print(type(age))"
   ]
  },
  {
   "cell_type": "code",
   "execution_count": 8,
   "metadata": {},
   "outputs": [
    {
     "name": "stdout",
     "output_type": "stream",
     "text": [
      "40 + 20 = 60\n",
      "40 - 20 = 20\n",
      "40 * 20 = 800\n",
      "40 / 20 = 2.0\n",
      "40 % 20 = 0\n",
      "40 // 20 = 2\n",
      "40 ** 20 = 109951162777600000000000000000000\n"
     ]
    }
   ],
   "source": [
    "#Arithimetic operators\n",
    "num1 = 40\n",
    "num2 = 20\n",
    "print(f'{num1} + {num2} = {num1 + num2}')\n",
    "print(f'{num1} - {num2} = {num1 - num2}')\n",
    "print(f'{num1} * {num2} = {num1 * num2}')\n",
    "print(f'{num1} / {num2} = {num1 / num2}')\n",
    "print(f'{num1} % {num2} = {num1 % num2}')\n",
    "print(f'{num1} // {num2} = {num1 // num2}')\n",
    "print(f'{num1} ** {num2} = {num1 ** num2}')"
   ]
  },
  {
   "cell_type": "code",
   "execution_count": 9,
   "metadata": {},
   "outputs": [
    {
     "name": "stdout",
     "output_type": "stream",
     "text": [
      "40 > 20 = True\n",
      "40 < 20 = False\n",
      "40 >= 20 = True\n",
      "40 <= 20 = False\n",
      "40 == 20 = False\n",
      "40 != 20 = True\n"
     ]
    }
   ],
   "source": [
    "#comparism operators\n",
    "print(f'{num1} > {num2} = {num1 > num2}')\n",
    "print(f'{num1} < {num2} = {num1 < num2}')\n",
    "print(f'{num1} >= {num2} = {num1 >= num2}')\n",
    "print(f'{num1} <= {num2} = {num1 <= num2}')\n",
    "print(f'{num1} == {num2} = {num1 == num2}')\n",
    "print(f'{num1} != {num2} = {num1 != num2}')"
   ]
  },
  {
   "cell_type": "code",
   "execution_count": 10,
   "metadata": {},
   "outputs": [
    {
     "name": "stdout",
     "output_type": "stream",
     "text": [
      "40 > 20 and 40 != 20= True\n",
      "40 < 20 or 40 == 20= False\n",
      "not 20 = False\n"
     ]
    }
   ],
   "source": [
    "#logical operators\n",
    "print(f'{num1} > {num2} and {num1} != {num2}= {num1 > num2 and num1 != num2}')\n",
    "print(f'{num1} < {num2} or {num1} == {num2}= {num1 < num2 or num1 == num2}')\n",
    "print(f'not {num2} = {not num2}')"
   ]
  },
  {
   "cell_type": "code",
   "execution_count": 11,
   "metadata": {},
   "outputs": [
    {
     "name": "stdout",
     "output_type": "stream",
     "text": [
      "40 is 20 = False\n",
      "40 is not 20 = True\n"
     ]
    }
   ],
   "source": [
    "#identity operators\n",
    "print(f'{num1} is {num2} = {num1 is num2}')\n",
    "print(f'{num1} is not {num2} = {num1 is not num2}')"
   ]
  },
  {
   "cell_type": "code",
   "execution_count": 12,
   "metadata": {},
   "outputs": [
    {
     "name": "stdout",
     "output_type": "stream",
     "text": [
      "True\n",
      "True\n"
     ]
    }
   ],
   "source": [
    "#membership operators\n",
    "word = 'python'\n",
    "print('p' in word)\n",
    "print(\"P\" not in word)"
   ]
  },
  {
   "cell_type": "code",
   "execution_count": 13,
   "metadata": {},
   "outputs": [
    {
     "name": "stdout",
     "output_type": "stream",
     "text": [
      "Ade's profit on 800 is 88000\n"
     ]
    }
   ],
   "source": [
    "#Ade bought 800 pen at 40 naira each and sold the at the rate of 150 each calculate ade's profit\n",
    "totalpen = 800\n",
    "sp =150 * totalpen\n",
    "cp = 40 * totalpen\n",
    "profit = sp - cp\n",
    "print(f'Ade\\'s profit on {totalpen} is {profit}')"
   ]
  },
  {
   "cell_type": "code",
   "execution_count": null,
   "metadata": {},
   "outputs": [],
   "source": []
  }
 ],
 "metadata": {
  "kernelspec": {
   "display_name": "Python 3.10.4 64-bit",
   "language": "python",
   "name": "python3"
  },
  "language_info": {
   "codemirror_mode": {
    "name": "ipython",
    "version": 3
   },
   "file_extension": ".py",
   "mimetype": "text/x-python",
   "name": "python",
   "nbconvert_exporter": "python",
   "pygments_lexer": "ipython3",
   "version": "3.10.4"
  },
  "orig_nbformat": 4,
  "vscode": {
   "interpreter": {
    "hash": "97a318a1c10ea3cad32b5f740e8bef65bce9a717407c951d39899fa160feabd9"
   }
  }
 },
 "nbformat": 4,
 "nbformat_minor": 2
}
