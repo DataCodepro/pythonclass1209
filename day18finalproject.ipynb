{
 "cells": [
  {
   "cell_type": "code",
   "execution_count": 1,
   "metadata": {},
   "outputs": [],
   "source": [
    "#using class and object write a program that will accept,display,search,update and delete student record"
   ]
  },
  {
   "cell_type": "code",
   "execution_count": 18,
   "metadata": {},
   "outputs": [],
   "source": [
    "class studentmanagement:\n",
    "    def __init__(self,Name,Gender,dob,seatnumber):\n",
    "        self.Name =Name\n",
    "        self.Gender =Gender\n",
    "        self.dob=dob\n",
    "        self.seatnumber =seatnumber\n",
    "    def accept(self,NAME,GENDER,DOB,SEATNUMBER):\n",
    "        ob = studentmanagement(NAME,GENDER,DOB,SEATNUMBER)\n",
    "        studentlist.append(ob)\n",
    "    def display(self,ob):\n",
    "        print(f'''NAME:{ob.Name}\n",
    "GENDER:{ob.Gender}\n",
    "DATE OF BIRTH:{ob.dob}\n",
    "SEAT NUMBER:{ob.seatnumber}\n",
    "''')\n",
    "    def search(self):\n",
    "        sn = int(input('Enter seat number to find:'))\n",
    "        for i in range(len(studentlist)):\n",
    "            if studentlist[i].seatnumber == sn:\n",
    "                return i\n",
    "            \n",
    "    def update(self):\n",
    "        oldnumber =int(input('Enter seat number to update:'))\n",
    "        newnumber = int(input('Enter New seat number:'))\n",
    "        s = obj.search()\n",
    "        studentlist[s].seatnumber = newnumber\n",
    "    def delete(self):\n",
    "        oldnumber =int(input('Enter seat number to delete:'))\n",
    "        i  = obj.search()\n",
    "        del studentlist[i]\n",
    "studentlist = []\n",
    "obj = studentmanagement('','','',0)"
   ]
  },
  {
   "cell_type": "code",
   "execution_count": 19,
   "metadata": {},
   "outputs": [],
   "source": [
    "obj.accept('Ade Ojo','Male','22/06/1990',1)\n",
    "obj.accept('MAry Paul','Female','15/02/1992',2)\n",
    "obj.accept('John James','Male','30/03/1998',3)\n",
    "obj.accept('Paul Ojo','Male','15/04/1994',4)\n",
    "obj.accept('Hope Henry','Female','22/06/1996',5)"
   ]
  },
  {
   "cell_type": "code",
   "execution_count": 20,
   "metadata": {},
   "outputs": [
    {
     "name": "stdout",
     "output_type": "stream",
     "text": [
      "NAME:Ade Ojo\n",
      "GENDER:Male\n",
      "DATE OF BIRTH:22/06/1990\n",
      "SEAT NUMBER:1\n",
      "\n",
      "NAME:MAry Paul\n",
      "GENDER:Female\n",
      "DATE OF BIRTH:15/02/1992\n",
      "SEAT NUMBER:2\n",
      "\n",
      "NAME:John James\n",
      "GENDER:Male\n",
      "DATE OF BIRTH:30/03/1998\n",
      "SEAT NUMBER:3\n",
      "\n",
      "NAME:Paul Ojo\n",
      "GENDER:Male\n",
      "DATE OF BIRTH:15/04/1994\n",
      "SEAT NUMBER:4\n",
      "\n",
      "NAME:Hope Henry\n",
      "GENDER:Female\n",
      "DATE OF BIRTH:22/06/1996\n",
      "SEAT NUMBER:5\n",
      "\n"
     ]
    }
   ],
   "source": [
    "for i in range(len(studentlist)):\n",
    "    obj.display(studentlist[i])"
   ]
  },
  {
   "cell_type": "code",
   "execution_count": 21,
   "metadata": {},
   "outputs": [
    {
     "name": "stdout",
     "output_type": "stream",
     "text": [
      "NAME:Hope Henry\n",
      "GENDER:Female\n",
      "DATE OF BIRTH:22/06/1996\n",
      "SEAT NUMBER:5\n",
      "\n"
     ]
    }
   ],
   "source": [
    "s = obj.search()\n",
    "obj.display(studentlist[s])"
   ]
  },
  {
   "cell_type": "code",
   "execution_count": 22,
   "metadata": {},
   "outputs": [
    {
     "name": "stdout",
     "output_type": "stream",
     "text": [
      "NAME:Ade Ojo\n",
      "GENDER:Male\n",
      "DATE OF BIRTH:22/06/1990\n",
      "SEAT NUMBER:1\n",
      "\n",
      "NAME:MAry Paul\n",
      "GENDER:Female\n",
      "DATE OF BIRTH:15/02/1992\n",
      "SEAT NUMBER:2\n",
      "\n",
      "NAME:John James\n",
      "GENDER:Male\n",
      "DATE OF BIRTH:30/03/1998\n",
      "SEAT NUMBER:3\n",
      "\n",
      "NAME:Paul Ojo\n",
      "GENDER:Male\n",
      "DATE OF BIRTH:15/04/1994\n",
      "SEAT NUMBER:4\n",
      "\n",
      "NAME:Hope Henry\n",
      "GENDER:Female\n",
      "DATE OF BIRTH:22/06/1996\n",
      "SEAT NUMBER:6\n",
      "\n"
     ]
    }
   ],
   "source": [
    "obj.update()\n",
    "for i in range(len(studentlist)):\n",
    "    obj.display(studentlist[i])"
   ]
  },
  {
   "cell_type": "code",
   "execution_count": 23,
   "metadata": {},
   "outputs": [],
   "source": [
    "obj.delete()"
   ]
  },
  {
   "cell_type": "code",
   "execution_count": null,
   "metadata": {},
   "outputs": [],
   "source": []
  }
 ],
 "metadata": {
  "kernelspec": {
   "display_name": "Python 3.10.4 64-bit",
   "language": "python",
   "name": "python3"
  },
  "language_info": {
   "codemirror_mode": {
    "name": "ipython",
    "version": 3
   },
   "file_extension": ".py",
   "mimetype": "text/x-python",
   "name": "python",
   "nbconvert_exporter": "python",
   "pygments_lexer": "ipython3",
   "version": "3.10.4"
  },
  "orig_nbformat": 4,
  "vscode": {
   "interpreter": {
    "hash": "97a318a1c10ea3cad32b5f740e8bef65bce9a717407c951d39899fa160feabd9"
   }
  }
 },
 "nbformat": 4,
 "nbformat_minor": 2
}
