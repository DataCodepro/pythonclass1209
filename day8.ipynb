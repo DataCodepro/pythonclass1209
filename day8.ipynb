{
 "cells": [
  {
   "cell_type": "code",
   "execution_count": 1,
   "metadata": {},
   "outputs": [],
   "source": [
    "#class and object"
   ]
  },
  {
   "cell_type": "code",
   "execution_count": 3,
   "metadata": {},
   "outputs": [],
   "source": [
    "class dog:\n",
    "    attr1 = 'Mammal'\n",
    "    attr2 = 'bark'\n",
    "obj = dog()"
   ]
  },
  {
   "cell_type": "code",
   "execution_count": 4,
   "metadata": {},
   "outputs": [
    {
     "data": {
      "text/plain": [
       "'Mammal'"
      ]
     },
     "execution_count": 4,
     "metadata": {},
     "output_type": "execute_result"
    }
   ],
   "source": [
    "obj.attr1"
   ]
  },
  {
   "cell_type": "code",
   "execution_count": 5,
   "metadata": {},
   "outputs": [
    {
     "data": {
      "text/plain": [
       "'bark'"
      ]
     },
     "execution_count": 5,
     "metadata": {},
     "output_type": "execute_result"
    }
   ],
   "source": [
    "obj.attr2"
   ]
  },
  {
   "cell_type": "code",
   "execution_count": 10,
   "metadata": {},
   "outputs": [
    {
     "name": "stdout",
     "output_type": "stream",
     "text": [
      "Obj Belongs to the family of Mammal\n"
     ]
    }
   ],
   "source": [
    "class dog:\n",
    "    attr1 = 'Mammal'\n",
    "    attr2 = 'bark'\n",
    "    def family(self):\n",
    "        print(f'Obj Belongs to the family of {self.attr1}')\n",
    "    def details(self):\n",
    "        print(f'obj can {self.attr2}')\n",
    "obj = dog()\n",
    "obj.family()"
   ]
  },
  {
   "cell_type": "code",
   "execution_count": 11,
   "metadata": {},
   "outputs": [
    {
     "name": "stdout",
     "output_type": "stream",
     "text": [
      "Audi A6 has started\n",
      "None\n",
      "Gear 4 selected\n",
      "None\n",
      "Nitro On ready for maximum acceleration\n",
      "None\n",
      "Audi A6 has stopped simulation over\n",
      "None\n"
     ]
    }
   ],
   "source": [
    "class car_simulation:\n",
    "    def __init__(self,brand,model,color,year,speed):\n",
    "        self.brand = brand\n",
    "        self.model = model\n",
    "        self.color = color\n",
    "        self.year = year\n",
    "        self.speed = speed\n",
    "        \n",
    "    def start(self):\n",
    "        print(f'{self.brand} {self.model} has started')\n",
    "    def gear(self):\n",
    "        choice = int(input('Please select a gear:'))\n",
    "        if choice == 1:\n",
    "            print('Gear 1 selected')\n",
    "        elif choice == 2:\n",
    "            print('Gear 2 selected')\n",
    "        elif choice == 3:\n",
    "            print('Gear 3 selected')\n",
    "        elif choice == 4:\n",
    "            print('Gear 4 selected')\n",
    "        elif choice == 5:\n",
    "            print('Gear 5 selected')\n",
    "        elif choice == 6:\n",
    "            print('Gear placed on reverse')\n",
    "    def accelerate(self,ch):\n",
    "        if ch == 1:\n",
    "            print('Nitro On ready for maximum acceleration')\n",
    "        elif ch == 2:\n",
    "            print('Nitro off')\n",
    "        else:\n",
    "            print('Nitro Option not recognize')\n",
    "    def stop(self):\n",
    "        print(f'{self.brand} {self.model} has stopped simulation over')\n",
    "car1 = car_simulation('Audi','A6','Black',2019,250)\n",
    "print(car1.start())\n",
    "print(car1.gear())\n",
    "print(car1.accelerate(1))\n",
    "print(car1.stop())"
   ]
  },
  {
   "cell_type": "code",
   "execution_count": 13,
   "metadata": {},
   "outputs": [
    {
     "name": "stdout",
     "output_type": "stream",
     "text": [
      "Mercedze Benz GLK has started\n",
      "None\n",
      "Gear 4 selected\n",
      "None\n",
      "Nitro On ready for maximum acceleration\n",
      "None\n",
      "Mercedze Benz GLK has stopped simulation over\n",
      "None\n"
     ]
    }
   ],
   "source": [
    "class new_car(car_simulation):\n",
    "    def openroof(self, ch):\n",
    "        if ch == 1:\n",
    "            print('Roof open')\n",
    "        elif ch == 2:\n",
    "            print('Roof Closed')\n",
    "        else:\n",
    "            print('Roof Option not recognize')\n",
    "car2 = new_car('Mercedze Benz','GLK','Black',2021,400)\n",
    "print(car2.start())\n",
    "print(car2.gear())\n",
    "print(car2.accelerate(1))\n",
    "print(car2.stop())"
   ]
  },
  {
   "cell_type": "code",
   "execution_count": null,
   "metadata": {},
   "outputs": [],
   "source": []
  }
 ],
 "metadata": {
  "kernelspec": {
   "display_name": "Python 3.10.4 64-bit",
   "language": "python",
   "name": "python3"
  },
  "language_info": {
   "codemirror_mode": {
    "name": "ipython",
    "version": 3
   },
   "file_extension": ".py",
   "mimetype": "text/x-python",
   "name": "python",
   "nbconvert_exporter": "python",
   "pygments_lexer": "ipython3",
   "version": "3.10.4"
  },
  "orig_nbformat": 4,
  "vscode": {
   "interpreter": {
    "hash": "97a318a1c10ea3cad32b5f740e8bef65bce9a717407c951d39899fa160feabd9"
   }
  }
 },
 "nbformat": 4,
 "nbformat_minor": 2
}
