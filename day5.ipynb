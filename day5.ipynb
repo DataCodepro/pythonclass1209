{
 "cells": [
  {
   "cell_type": "code",
   "execution_count": 2,
   "metadata": {},
   "outputs": [
    {
     "name": "stdout",
     "output_type": "stream",
     "text": [
      "ppp\n",
      "yyy\n",
      "ttt\n",
      "hhh\n",
      "ooo\n",
      "nnn\n",
      "iii\n",
      "sss\n",
      "fff\n",
      "uuu\n",
      "nnn\n",
      "ttt\n",
      "ooo\n",
      "lll\n",
      "eee\n",
      "aaa\n",
      "rrr\n",
      "nnn\n"
     ]
    }
   ],
   "source": [
    "#loops\n",
    "character = 'pythonisfuntolearn'\n",
    "for char in character:\n",
    "    print(char * 3)"
   ]
  },
  {
   "cell_type": "code",
   "execution_count": 5,
   "metadata": {},
   "outputs": [
    {
     "name": "stdout",
     "output_type": "stream",
     "text": [
      "ppp::yyy::ttt::hhh::ooo::nnn::iii::sss::fff::uuu::nnn::ttt::ooo::lll::eee::aaa::rrr::nnn::"
     ]
    }
   ],
   "source": [
    "character = 'pythonisfuntolearn'\n",
    "for char in character:\n",
    "    print(char * 3,end = '::')"
   ]
  },
  {
   "cell_type": "code",
   "execution_count": 8,
   "metadata": {},
   "outputs": [
    {
     "name": "stdout",
     "output_type": "stream",
     "text": [
      "Goodday Mr Akin this is to remind you of our meeting slated to  hold on Friday by 12 noon\n",
      "Goodday Mr John this is to remind you of our meeting slated to  hold on Friday by 12 noon\n",
      "Goodday Mrs Janet this is to remind you of our meeting slated to  hold on Friday by 12 noon\n",
      "Goodday Dr.Faith this is to remind you of our meeting slated to  hold on Friday by 12 noon\n"
     ]
    }
   ],
   "source": [
    "dep_head = ['Mr Akin','Mr John','Mrs Janet','Dr.Faith']\n",
    "for names in dep_head:\n",
    "    print(f'Goodday {names} this is to remind you of our meeting slated to  hold on Friday by 12 noon')"
   ]
  },
  {
   "cell_type": "code",
   "execution_count": 10,
   "metadata": {},
   "outputs": [
    {
     "name": "stdout",
     "output_type": "stream",
     "text": [
      "40 x 1 = 40\n",
      "40 x 2 = 80\n",
      "40 x 3 = 120\n",
      "40 x 4 = 160\n",
      "40 x 5 = 200\n",
      "40 x 6 = 240\n",
      "40 x 7 = 280\n",
      "40 x 8 = 320\n",
      "40 x 9 = 360\n",
      "40 x 10 = 400\n",
      "40 x 11 = 440\n",
      "40 x 12 = 480\n",
      "40 x 13 = 520\n",
      "40 x 14 = 560\n",
      "40 x 15 = 600\n",
      "40 x 16 = 640\n",
      "40 x 17 = 680\n",
      "40 x 18 = 720\n",
      "40 x 19 = 760\n",
      "40 x 20 = 800\n"
     ]
    }
   ],
   "source": [
    "num = int(input('Provide your desired number:'))\n",
    "for i in range(1,21):\n",
    "    print(f'{num} x {i} = {num*i}')"
   ]
  },
  {
   "cell_type": "code",
   "execution_count": 11,
   "metadata": {},
   "outputs": [
    {
     "name": "stdout",
     "output_type": "stream",
     "text": [
      "James :: {'Math': 90, 'English': 67, 'Physicis': 80, 'Chemistry': 90}\n",
      "Samuel :: {'Math': 90, 'English': 67, 'Physicis': 80, 'Chemistry': 90}\n",
      "Faith :: {'Math': 90, 'English': 67, 'Physicis': 80, 'Chemistry': 90}\n",
      "Jane :: {'Math': 90, 'English': 67, 'Physicis': 80, 'Chemistry': 90}\n",
      "Obi :: {'Math': 90, 'English': 67, 'Physicis': 80, 'Chemistry': 90}\n"
     ]
    }
   ],
   "source": [
    "student_records = {\n",
    "    'James':{'Math':90,'English':67,'Physicis':80,'Chemistry':90},\n",
    "    'Samuel':{'Math':90,'English':67,'Physicis':80,'Chemistry':90},\n",
    "    'Faith':{'Math':90,'English':67,'Physicis':80,'Chemistry':90},\n",
    "    'Jane':{'Math':90,'English':67,'Physicis':80,'Chemistry':90},\n",
    "    'Obi':{'Math':90,'English':67,'Physicis':80,'Chemistry':90}\n",
    "}\n",
    "for keys,values in student_records.items():\n",
    "    print(f'{keys} :: {values}')"
   ]
  },
  {
   "cell_type": "code",
   "execution_count": 13,
   "metadata": {},
   "outputs": [
    {
     "name": "stdout",
     "output_type": "stream",
     "text": [
      "Congratulations your score are as follows {'Math': 80, 'English': 90, 'Physicis': 70, 'Chemistry': 88}\n"
     ]
    }
   ],
   "source": [
    "student_records = {\n",
    "    'James':{'Math':90,'English':67,'Physicis':88,'Chemistry':90},\n",
    "    'Samuel':{'Math':80,'English':90,'Physicis':70,'Chemistry':88},\n",
    "    'Faith':{'Math':78,'English':78,'Physicis':90,'Chemistry':65},\n",
    "    'Jane':{'Math':69,'English':80,'Physicis':92,'Chemistry':72},\n",
    "    'Obi':{'Math':52,'English':85,'Physicis':86,'Chemistry':56}\n",
    "}\n",
    "name = input('Please Provide your name to access your result')\n",
    "for key in student_records:\n",
    "    if name == key:\n",
    "        print(f'Congratulations your score are as follows {student_records[key]}')"
   ]
  },
  {
   "cell_type": "code",
   "execution_count": 16,
   "metadata": {},
   "outputs": [
    {
     "name": "stdout",
     "output_type": "stream",
     "text": [
      "Congratulations your score are as follows {'Math': 80, 'English': 90, 'Physicis': 70, 'Chemistry': 88}\n",
      "Record not found\n"
     ]
    }
   ],
   "source": [
    "student_records = {\n",
    "    'James':{'Math':90,'English':67,'Physicis':88,'Chemistry':90},\n",
    "    'Samuel':{'Math':80,'English':90,'Physicis':70,'Chemistry':88},\n",
    "    'Faith':{'Math':78,'English':78,'Physicis':90,'Chemistry':65},\n",
    "    'Jane':{'Math':69,'English':80,'Physicis':92,'Chemistry':72},\n",
    "    'Obi':{'Math':52,'English':85,'Physicis':86,'Chemistry':56}\n",
    "}\n",
    "name = input('Please Provide your name to access your result')\n",
    "for key in student_records:\n",
    "    if name == key:\n",
    "        print(f'Congratulations your score are as follows {student_records[key]}')\n",
    "else:\n",
    "    print('Record not found')"
   ]
  },
  {
   "cell_type": "code",
   "execution_count": 17,
   "metadata": {},
   "outputs": [
    {
     "name": "stdout",
     "output_type": "stream",
     "text": [
      "Congratulations your score are as follows {'Math': 80, 'English': 90, 'Physicis': 70, 'Chemistry': 88}\n"
     ]
    }
   ],
   "source": [
    "student_records = {\n",
    "    'James':{'Math':90,'English':67,'Physicis':88,'Chemistry':90},\n",
    "    'Samuel':{'Math':80,'English':90,'Physicis':70,'Chemistry':88},\n",
    "    'Faith':{'Math':78,'English':78,'Physicis':90,'Chemistry':65},\n",
    "    'Jane':{'Math':69,'English':80,'Physicis':92,'Chemistry':72},\n",
    "    'Obi':{'Math':52,'English':85,'Physicis':86,'Chemistry':56}\n",
    "}\n",
    "name = input('Please Provide your name to access your result')\n",
    "for key in student_records:\n",
    "    if name == key:\n",
    "        print(f'Congratulations your score are as follows {student_records[key]}')\n",
    "        break\n",
    "else:\n",
    "    print('Record not found')"
   ]
  },
  {
   "cell_type": "code",
   "execution_count": 18,
   "metadata": {},
   "outputs": [
    {
     "name": "stdout",
     "output_type": "stream",
     "text": [
      "Congratulations your score are as follows {'Math': 80, 'English': 90, 'Physicis': 70, 'Chemistry': 88}\n",
      "Record not found\n"
     ]
    }
   ],
   "source": [
    "student_records = {\n",
    "    'James':{'Math':90,'English':67,'Physicis':88,'Chemistry':90},\n",
    "    'Samuel':{'Math':80,'English':90,'Physicis':70,'Chemistry':88},\n",
    "    'Faith':{'Math':78,'English':78,'Physicis':90,'Chemistry':65},\n",
    "    'Jane':{'Math':69,'English':80,'Physicis':92,'Chemistry':72},\n",
    "    'Obi':{'Math':52,'English':85,'Physicis':86,'Chemistry':56}\n",
    "}\n",
    "name = input('Please Provide your name to access your result')\n",
    "for key in student_records:\n",
    "    if name == key:\n",
    "        print(f'Congratulations your score are as follows {student_records[key]}')\n",
    "        continue\n",
    "else:\n",
    "    print('Record not found')"
   ]
  },
  {
   "cell_type": "code",
   "execution_count": 19,
   "metadata": {},
   "outputs": [
    {
     "name": "stdout",
     "output_type": "stream",
     "text": [
      "The sqrt of 34 is 5.830951894845301\n",
      "The sqrt of 50 is 7.0710678118654755\n",
      "The sqrt of 67 is 8.18535277187245\n"
     ]
    }
   ],
   "source": [
    "import math\n",
    "num = int(input('Please provide a number:'))\n",
    "counter = 1\n",
    "while  num != 0:\n",
    "    print(f'The sqrt of {num} is {math.sqrt(num)}')\n",
    "    num = int(input('Please provide a number:'))\n",
    "    counter = counter + 1\n"
   ]
  },
  {
   "cell_type": "code",
   "execution_count": 20,
   "metadata": {},
   "outputs": [
    {
     "name": "stdout",
     "output_type": "stream",
     "text": [
      "[48, 47, 73, 50, 63, 72, 65, 48, 70, 64, 63, 71, 61, 72, 52, 52, 57, 64, 49, 74, 68, 56, 46, 52, 60, 50, 52, 80, 60, 66, 70, 57, 77, 53, 54, 80, 54, 67, 52, 64, 55, 78, 74, 74, 45, 51, 74, 75, 62, 55]\n"
     ]
    }
   ],
   "source": [
    "import random\n",
    "numbers= []\n",
    "counter =1\n",
    "while counter <= 50:\n",
    "    num = random.randint(45,80)\n",
    "    numbers.append(num)\n",
    "    counter = counter +1\n",
    "print(numbers)"
   ]
  },
  {
   "cell_type": "code",
   "execution_count": 21,
   "metadata": {},
   "outputs": [
    {
     "data": {
      "text/plain": [
       "50"
      ]
     },
     "execution_count": 21,
     "metadata": {},
     "output_type": "execute_result"
    }
   ],
   "source": [
    "len(numbers)"
   ]
  },
  {
   "cell_type": "code",
   "execution_count": null,
   "metadata": {},
   "outputs": [],
   "source": []
  }
 ],
 "metadata": {
  "kernelspec": {
   "display_name": "Python 3.10.4 64-bit",
   "language": "python",
   "name": "python3"
  },
  "language_info": {
   "codemirror_mode": {
    "name": "ipython",
    "version": 3
   },
   "file_extension": ".py",
   "mimetype": "text/x-python",
   "name": "python",
   "nbconvert_exporter": "python",
   "pygments_lexer": "ipython3",
   "version": "3.10.4"
  },
  "orig_nbformat": 4,
  "vscode": {
   "interpreter": {
    "hash": "97a318a1c10ea3cad32b5f740e8bef65bce9a717407c951d39899fa160feabd9"
   }
  }
 },
 "nbformat": 4,
 "nbformat_minor": 2
}
