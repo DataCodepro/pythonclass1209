{
 "cells": [
  {
   "cell_type": "code",
   "execution_count": 1,
   "metadata": {},
   "outputs": [],
   "source": [
    "import pymysql"
   ]
  },
  {
   "cell_type": "code",
   "execution_count": 2,
   "metadata": {},
   "outputs": [],
   "source": [
    "mydb = pymysql.connect(\n",
    "    host = 'localhost',\n",
    "    user = 'root',\n",
    "    password = 'seyilaw1',\n",
    "    database='greenwayschoolmanagementsystem'\n",
    ")\n",
    "mycursor = mydb.cursor()"
   ]
  },
  {
   "cell_type": "code",
   "execution_count": 3,
   "metadata": {},
   "outputs": [
    {
     "name": "stdout",
     "output_type": "stream",
     "text": [
      "('id', 'int', 'NO', 'PRI', None, '')\n",
      "('StaffName', 'varchar(255)', 'NO', '', None, '')\n",
      "('staffgender', 'varchar(10)', 'NO', '', None, '')\n",
      "('staffdob', 'date', 'NO', '', None, '')\n",
      "('staffaddress', 'text', 'NO', '', None, '')\n"
     ]
    }
   ],
   "source": [
    "mycursor.execute('alter table staffdetails add column staffaddress text not null')\n",
    "mycursor.execute('show columns from staffdetails')\n",
    "for x in mycursor:\n",
    "    print(x)"
   ]
  },
  {
   "cell_type": "code",
   "execution_count": 4,
   "metadata": {},
   "outputs": [
    {
     "name": "stdout",
     "output_type": "stream",
     "text": [
      "('id', 'int', 'NO', 'PRI', None, '')\n",
      "('StaffName', 'varchar(255)', 'NO', '', None, '')\n",
      "('staffgender', 'varchar(10)', 'NO', '', None, '')\n",
      "('staffdob', 'date', 'NO', '', None, '')\n",
      "('staffcontact', 'text', 'NO', '', None, '')\n",
      "('staffaddress', 'text', 'NO', '', None, '')\n"
     ]
    }
   ],
   "source": [
    "mycursor.execute('alter table staffdetails add column staffcontact text not null after staffdob')\n",
    "mycursor.execute('show columns from staffdetails')\n",
    "for x in mycursor:\n",
    "    print(x)"
   ]
  },
  {
   "cell_type": "code",
   "execution_count": 6,
   "metadata": {},
   "outputs": [
    {
     "name": "stdout",
     "output_type": "stream",
     "text": [
      "('id', 'int', 'NO', 'PRI', None, '')\n",
      "('StaffName', 'varchar(255)', 'NO', '', None, '')\n",
      "('staffgender', 'varchar(10)', 'NO', '', None, '')\n",
      "('staffdob', 'date', 'NO', '', None, '')\n",
      "('staffcontact', 'varchar(255)', 'NO', '', None, '')\n",
      "('staffaddress', 'text', 'NO', '', None, '')\n"
     ]
    }
   ],
   "source": [
    "mycursor.execute('alter table staffdetails modify column staffcontact varchar(255) not null')\n",
    "mycursor.execute('show columns from staffdetails')\n",
    "for x in mycursor:\n",
    "    print(x)"
   ]
  },
  {
   "cell_type": "code",
   "execution_count": 7,
   "metadata": {},
   "outputs": [
    {
     "name": "stdout",
     "output_type": "stream",
     "text": [
      "('id', 'int', 'NO', 'PRI', None, '')\n",
      "('StaffName', 'varchar(255)', 'NO', '', None, '')\n",
      "('staffgender', 'varchar(10)', 'NO', '', None, '')\n",
      "('staffdob', 'date', 'NO', '', None, '')\n",
      "('staffcontact', 'varchar(255)', 'NO', '', None, '')\n"
     ]
    }
   ],
   "source": [
    "mycursor.execute('alter table staffdetails drop staffaddress')\n",
    "mycursor.execute('show columns from staffdetails')\n",
    "for x in mycursor:\n",
    "    print(x)"
   ]
  },
  {
   "cell_type": "code",
   "execution_count": 8,
   "metadata": {},
   "outputs": [
    {
     "name": "stdout",
     "output_type": "stream",
     "text": [
      "('id', 'int', 'NO', 'PRI', None, '')\n",
      "('StaffName', 'varchar(255)', 'NO', '', None, '')\n",
      "('staffgender', 'varchar(10)', 'NO', '', None, '')\n",
      "('staffdob', 'date', 'NO', '', None, '')\n",
      "('staffphonenumber', 'varchar(255)', 'NO', '', None, '')\n"
     ]
    }
   ],
   "source": [
    "mycursor.execute('alter table staffdetails change column staffcontact staffphonenumber varchar(255) not null')\n",
    "mycursor.execute('show columns from staffdetails')\n",
    "for x in mycursor:\n",
    "    print(x)"
   ]
  },
  {
   "cell_type": "code",
   "execution_count": 9,
   "metadata": {},
   "outputs": [
    {
     "name": "stdout",
     "output_type": "stream",
     "text": [
      "('staffrecords',)\n"
     ]
    }
   ],
   "source": [
    "mycursor.execute('alter table staffdetails rename to staffrecords')\n",
    "mycursor.execute('show tables')\n",
    "for x in mycursor:\n",
    "    print(x)"
   ]
  },
  {
   "cell_type": "code",
   "execution_count": 10,
   "metadata": {},
   "outputs": [],
   "source": [
    "sql = 'insert into staffrecords(id,StaffName,staffgender,staffdob,staffphonenumber) values(%s,%s,%s,%s,%s)'\n",
    "values = [(1,'Janet Lawal','Female','1987-02-22','08145897568'),\n",
    "          (2,'Samuel Okoro','Male','1990-06-06','08123659878'),\n",
    "          (3,'Jackson Akpan','Male','1995-07-25','08056523221'),\n",
    "          (4,'Susan Paul','Female','1992-06-27','09056232323'),\n",
    "          (5,'Ojukwu Okere','Male','1991-12-24','09145878987'),\n",
    "          (6,'Johan Akinlabi','Female','1988-09-25','09147787979'),\n",
    "           (7,'Patrick Ogunlade','Male','1994-01-01','07052521416')]\n",
    "mycursor.executemany(sql,values)\n",
    "mydb.commit()        "
   ]
  },
  {
   "cell_type": "code",
   "execution_count": 12,
   "metadata": {},
   "outputs": [
    {
     "name": "stdout",
     "output_type": "stream",
     "text": [
      "(1, 'Janet Lawal', 'Female', datetime.date(1987, 2, 22), '08145897568')\n",
      "(2, 'Samuel Okoro', 'Male', datetime.date(1990, 6, 6), '08123659878')\n",
      "(3, 'Jackson Akpan', 'Male', datetime.date(1995, 7, 25), '08056523221')\n",
      "(4, 'Susan Paul', 'Female', datetime.date(1992, 6, 27), '09056232323')\n",
      "(5, 'Ojukwu Okere', 'Male', datetime.date(1991, 12, 24), '09145878987')\n",
      "(6, 'Johan Akinlabi', 'Female', datetime.date(1988, 9, 25), '09147787979')\n",
      "(7, 'Patrick Ogunlade', 'Male', datetime.date(1994, 1, 1), '07052521416')\n"
     ]
    }
   ],
   "source": [
    "mycursor.execute('select * from staffrecords')\n",
    "for x in mycursor:\n",
    "    print(x)"
   ]
  },
  {
   "cell_type": "code",
   "execution_count": 13,
   "metadata": {},
   "outputs": [
    {
     "name": "stdout",
     "output_type": "stream",
     "text": [
      "(1, 'Janet Lawal', 'Female', datetime.date(1987, 2, 22), '08145897568')\n",
      "(2, 'Samuel Okoro', 'Male', datetime.date(1989, 6, 6), '08123659878')\n",
      "(3, 'Jackson Akpan', 'Male', datetime.date(1995, 7, 25), '08056523221')\n",
      "(4, 'Susan Paul', 'Female', datetime.date(1992, 6, 27), '09056232323')\n",
      "(5, 'Ojukwu Okere', 'Male', datetime.date(1991, 12, 24), '09145878987')\n",
      "(6, 'Johan Akinlabi', 'Female', datetime.date(1988, 9, 25), '09147787979')\n",
      "(7, 'Patrick Ogunlade', 'Male', datetime.date(1994, 1, 1), '07052521416')\n"
     ]
    }
   ],
   "source": [
    "mycursor.execute('update staffrecords set staffdob = \"1989-06-06\" where id = 2')\n",
    "mycursor.execute('select * from staffrecords')\n",
    "for x in mycursor:\n",
    "    print(x)"
   ]
  },
  {
   "cell_type": "code",
   "execution_count": 14,
   "metadata": {},
   "outputs": [
    {
     "name": "stdout",
     "output_type": "stream",
     "text": [
      "(1, 'Janet Lawal', 'Female', datetime.date(1987, 2, 22), '08145897568')\n",
      "(2, 'Samuel Okoro', 'Male', datetime.date(1989, 6, 6), '08123659878')\n",
      "(3, 'Jackson Akpan', 'Male', datetime.date(1995, 7, 25), '08056523221')\n",
      "(4, 'Susan Paul', 'Female', datetime.date(1992, 6, 27), '09056232323')\n",
      "(5, 'Ojukwu Okere', 'Male', datetime.date(1991, 12, 24), '09145878987')\n",
      "(6, 'Johan Akinlabi', 'Female', datetime.date(1988, 9, 25), '09147787979')\n"
     ]
    }
   ],
   "source": [
    "mycursor.execute('delete from staffrecords where id = 7')\n",
    "mycursor.execute('select * from staffrecords')\n",
    "for x in mycursor:\n",
    "    print(x)"
   ]
  },
  {
   "cell_type": "code",
   "execution_count": 16,
   "metadata": {},
   "outputs": [
    {
     "name": "stdout",
     "output_type": "stream",
     "text": [
      "(2, 'Samuel Okoro', 'Male', datetime.date(1989, 6, 6), '08123659878')\n",
      "(3, 'Jackson Akpan', 'Male', datetime.date(1995, 7, 25), '08056523221')\n",
      "(5, 'Ojukwu Okere', 'Male', datetime.date(1991, 12, 24), '09145878987')\n"
     ]
    }
   ],
   "source": [
    "mycursor.execute('select * from staffrecords where staffgender = \"Male\"')\n",
    "for x in mycursor:\n",
    "    print(x)"
   ]
  },
  {
   "cell_type": "code",
   "execution_count": null,
   "metadata": {},
   "outputs": [],
   "source": []
  }
 ],
 "metadata": {
  "kernelspec": {
   "display_name": "Python 3.10.4 64-bit",
   "language": "python",
   "name": "python3"
  },
  "language_info": {
   "codemirror_mode": {
    "name": "ipython",
    "version": 3
   },
   "file_extension": ".py",
   "mimetype": "text/x-python",
   "name": "python",
   "nbconvert_exporter": "python",
   "pygments_lexer": "ipython3",
   "version": "3.10.4"
  },
  "orig_nbformat": 4,
  "vscode": {
   "interpreter": {
    "hash": "97a318a1c10ea3cad32b5f740e8bef65bce9a717407c951d39899fa160feabd9"
   }
  }
 },
 "nbformat": 4,
 "nbformat_minor": 2
}
