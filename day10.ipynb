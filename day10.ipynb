{
 "cells": [
  {
   "cell_type": "code",
   "execution_count": 1,
   "metadata": {},
   "outputs": [],
   "source": [
    "import datetime"
   ]
  },
  {
   "cell_type": "code",
   "execution_count": 2,
   "metadata": {},
   "outputs": [
    {
     "name": "stdout",
     "output_type": "stream",
     "text": [
      "['MAXYEAR', 'MINYEAR', '__all__', '__builtins__', '__cached__', '__doc__', '__file__', '__loader__', '__name__', '__package__', '__spec__', 'date', 'datetime', 'datetime_CAPI', 'sys', 'time', 'timedelta', 'timezone', 'tzinfo']\n"
     ]
    }
   ],
   "source": [
    "print(dir(datetime))"
   ]
  },
  {
   "cell_type": "code",
   "execution_count": 3,
   "metadata": {},
   "outputs": [
    {
     "data": {
      "text/plain": [
       "datetime.date(2022, 5, 25)"
      ]
     },
     "execution_count": 3,
     "metadata": {},
     "output_type": "execute_result"
    }
   ],
   "source": [
    "mydate = datetime.date(2022,5,25)\n",
    "mydate"
   ]
  },
  {
   "cell_type": "code",
   "execution_count": 4,
   "metadata": {},
   "outputs": [
    {
     "name": "stdout",
     "output_type": "stream",
     "text": [
      "2022\n",
      "5\n",
      "25\n",
      "2\n",
      "3\n"
     ]
    }
   ],
   "source": [
    "print(mydate.year)\n",
    "print(mydate.month)\n",
    "print(mydate.day)\n",
    "print(mydate.weekday())\n",
    "print(mydate.isoweekday())"
   ]
  },
  {
   "cell_type": "code",
   "execution_count": 5,
   "metadata": {},
   "outputs": [
    {
     "data": {
      "text/plain": [
       "datetime.date(2022, 10, 3)"
      ]
     },
     "execution_count": 5,
     "metadata": {},
     "output_type": "execute_result"
    }
   ],
   "source": [
    "currentdate = datetime.date.today()\n",
    "currentdate"
   ]
  },
  {
   "cell_type": "code",
   "execution_count": 14,
   "metadata": {},
   "outputs": [
    {
     "data": {
      "text/plain": [
       "'03 of October 2022'"
      ]
     },
     "execution_count": 14,
     "metadata": {},
     "output_type": "execute_result"
    }
   ],
   "source": [
    "#strftime is used for the modification of date and time\n",
    "currentdate.strftime('%d of %B %Y')"
   ]
  },
  {
   "cell_type": "code",
   "execution_count": 15,
   "metadata": {},
   "outputs": [
    {
     "data": {
      "text/plain": [
       "datetime.time(12, 45, 58, 89978)"
      ]
     },
     "execution_count": 15,
     "metadata": {},
     "output_type": "execute_result"
    }
   ],
   "source": [
    "mytime = datetime.time(12,45,58,89978)\n",
    "mytime"
   ]
  },
  {
   "cell_type": "code",
   "execution_count": 16,
   "metadata": {},
   "outputs": [
    {
     "name": "stdout",
     "output_type": "stream",
     "text": [
      "12\n",
      "45\n",
      "58\n",
      "89978\n"
     ]
    }
   ],
   "source": [
    "print(mytime.hour)\n",
    "print(mytime.minute)\n",
    "print(mytime.second)\n",
    "print(mytime.microsecond)"
   ]
  },
  {
   "cell_type": "code",
   "execution_count": 18,
   "metadata": {},
   "outputs": [
    {
     "data": {
      "text/plain": [
       "datetime.time(10, 41, 1, 532109)"
      ]
     },
     "execution_count": 18,
     "metadata": {},
     "output_type": "execute_result"
    }
   ],
   "source": [
    "currenttime = datetime.datetime.now().time()\n",
    "currenttime"
   ]
  },
  {
   "cell_type": "code",
   "execution_count": 25,
   "metadata": {},
   "outputs": [
    {
     "data": {
      "text/plain": [
       "'10::41::01'"
      ]
     },
     "execution_count": 25,
     "metadata": {},
     "output_type": "execute_result"
    }
   ],
   "source": [
    "currenttime.strftime('%H::%M::%S')"
   ]
  },
  {
   "cell_type": "code",
   "execution_count": 26,
   "metadata": {},
   "outputs": [
    {
     "data": {
      "text/plain": [
       "datetime.datetime(2022, 10, 3, 10, 46, 27, 327754)"
      ]
     },
     "execution_count": 26,
     "metadata": {},
     "output_type": "execute_result"
    }
   ],
   "source": [
    "current_date_time = datetime.datetime.now()\n",
    "current_date_time"
   ]
  },
  {
   "cell_type": "code",
   "execution_count": 29,
   "metadata": {},
   "outputs": [
    {
     "name": "stdout",
     "output_type": "stream",
     "text": [
      "2022-12-25\n"
     ]
    }
   ],
   "source": [
    "#strptime is used to convert a date in string to datetime format\n",
    "usersdate = input('Please provide your date(m/d/y)')\n",
    "cdate = datetime.datetime.strptime(usersdate,'%m/%d/%Y').date()\n",
    "print(cdate)"
   ]
  },
  {
   "cell_type": "code",
   "execution_count": 30,
   "metadata": {},
   "outputs": [
    {
     "data": {
      "text/plain": [
       "datetime.timedelta(days=83)"
      ]
     },
     "execution_count": 30,
     "metadata": {},
     "output_type": "execute_result"
    }
   ],
   "source": [
    "cdate -currentdate"
   ]
  },
  {
   "cell_type": "code",
   "execution_count": 33,
   "metadata": {},
   "outputs": [
    {
     "data": {
      "text/plain": [
       "datetime.date(2024, 11, 11)"
      ]
     },
     "execution_count": 33,
     "metadata": {},
     "output_type": "execute_result"
    }
   ],
   "source": [
    "currentdate + datetime.timedelta(weeks = 110)"
   ]
  },
  {
   "cell_type": "code",
   "execution_count": 32,
   "metadata": {},
   "outputs": [
    {
     "data": {
      "text/plain": [
       "datetime.date(2022, 6, 15)"
      ]
     },
     "execution_count": 32,
     "metadata": {},
     "output_type": "execute_result"
    }
   ],
   "source": [
    "currentdate - datetime.timedelta(days = 110)"
   ]
  },
  {
   "cell_type": "code",
   "execution_count": 37,
   "metadata": {},
   "outputs": [
    {
     "name": "stdout",
     "output_type": "stream",
     "text": [
      "Dear user you have 37 weeks and 6 days until your appiontment\n"
     ]
    }
   ],
   "source": [
    "# Write a program to calculate a user appiontment date from the current date and tell the user how many weeks and days left to the appiontment\n",
    "\n",
    "\n",
    "#stop by 11:20\n",
    "usersdate = input('Please provide your appiontment date(d/m/y)')\n",
    "conusersdate = datetime.datetime.strptime(usersdate,'%d/%m/%Y').date()\n",
    "currentdate = datetime.date.today()\n",
    "total_numbers_of_days = conusersdate -  currentdate\n",
    "num_of_weeks = total_numbers_of_days.days // 7\n",
    "num_of_days = total_numbers_of_days.days % 7\n",
    "print(f'Dear user you have {num_of_weeks} weeks and {num_of_days} days until your appiontment')"
   ]
  },
  {
   "cell_type": "code",
   "execution_count": 41,
   "metadata": {},
   "outputs": [],
   "source": [
    "file = open('demo.txt','w')\n",
    "file.write('''usersdate = input('Please provide your appiontment date(d/m/y)')\n",
    "conusersdate = datetime.datetime.strptime(usersdate,'%d/%m/%Y').date()\n",
    "currentdate = datetime.date.today()\n",
    "total_numbers_of_days = conusersdate -  currentdate\n",
    "num_of_weeks = total_numbers_of_days.days // 7\n",
    "''')\n",
    "file.close()"
   ]
  },
  {
   "cell_type": "code",
   "execution_count": 43,
   "metadata": {},
   "outputs": [
    {
     "name": "stdout",
     "output_type": "stream",
     "text": [
      "print('Hello World')\n",
      "#variables\n",
      "name = 'Taiwo'\n",
      "number1 = 45\n",
      "number2 = 12.6\n",
      "X = True\n",
      "print(name)\n",
      "# have a variable holding your firstname\n",
      "# have a variable holding any integer value\n",
      "# have a variable holding any float value\n",
      "# have a variable holding any of the boolean value\n",
      "# display all the variables you have declearded to  return their out\n",
      "\n",
      "#Escape character\n",
      "word = 'we\\'re brothers from the other side of the town'\n",
      "print(word)\n",
      "word2 = \"we're brothers from the other side of the town\"\n",
      "#New line\n",
      "word3 = 'python is fun\\npython is easy\\npython is interactive in nature'\n",
      "print(word3)\n",
      "\n",
      "\n",
      "#string concatenation which means joining of two or more string\n",
      "print('hello' + ' '+ 'world')\n",
      "print('welcome to python class' +' '+name)\n",
      "surname = 'Kanjuni'\n",
      "print(surname + ' '+ name)\n",
      "\n",
      "# String formatting which means formatting a value of a variable inside a string\n",
      "price1 = 15000\n",
      "price2 = 30500\n",
      "price3 = 45000\n",
      "sales_report = 'I sold two pairs of shirt for {}, two pairs of shoe for {} and a suit for {}'\n",
      "print(sales_report.format(price1,price2,price3))\n",
      "print(f'I sold two pairs of shirt for {price1}, two pairs of shoe for {price2} and a suit for {price3}')\n",
      "\n",
      "\n",
      "#String Method this  are function that can only be applied on a string\n",
      "word1 = 'python'\n",
      "word2 = 'PYTHON'\n",
      "word3 = 'python is fun'\n",
      "word4 = '   info'\n",
      "print(word1.upper())\n",
      "print(word2.lower())\n",
      " 0print(word3.title())\n",
      "print(word3.capitalize())\n",
      "print(word3.split())\n",
      "print(word4.strip())\n",
      "\n",
      "\n",
      "\n"
     ]
    }
   ],
   "source": [
    "file = open('day1.py','r')\n",
    "print(file.read())\n",
    "file.close()"
   ]
  },
  {
   "cell_type": "code",
   "execution_count": 44,
   "metadata": {},
   "outputs": [],
   "source": [
    "file = open('demo.txt','a')\n",
    "file.write('End of program')\n",
    "file.close()"
   ]
  },
  {
   "cell_type": "code",
   "execution_count": 45,
   "metadata": {},
   "outputs": [
    {
     "name": "stdout",
     "output_type": "stream",
     "text": [
      "usersdate = input('Please provide your appiontment date(d/m/y)')\n",
      "conusersdate = datetime.datetime.strptime(usersdate,'%d/%m/%Y').date()\n",
      "currentdate = datetime.date.today()\n",
      "total_numbers_of_days = conusersdate -  currentdate\n",
      "num_of_weeks = total_numbers_of_days.days // 7\n",
      "End of program\n"
     ]
    }
   ],
   "source": [
    "file = open('demo.txt','r+')\n",
    "print(file.read())\n",
    "file.write('Python is fun')\n",
    "file.close()"
   ]
  },
  {
   "cell_type": "code",
   "execution_count": null,
   "metadata": {},
   "outputs": [],
   "source": []
  }
 ],
 "metadata": {
  "kernelspec": {
   "display_name": "Python 3.10.4 64-bit",
   "language": "python",
   "name": "python3"
  },
  "language_info": {
   "codemirror_mode": {
    "name": "ipython",
    "version": 3
   },
   "file_extension": ".py",
   "mimetype": "text/x-python",
   "name": "python",
   "nbconvert_exporter": "python",
   "pygments_lexer": "ipython3",
   "version": "3.10.4"
  },
  "orig_nbformat": 4,
  "vscode": {
   "interpreter": {
    "hash": "97a318a1c10ea3cad32b5f740e8bef65bce9a717407c951d39899fa160feabd9"
   }
  }
 },
 "nbformat": 4,
 "nbformat_minor": 2
}
