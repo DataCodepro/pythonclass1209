{
 "cells": [
  {
   "cell_type": "code",
   "execution_count": 1,
   "metadata": {},
   "outputs": [],
   "source": [
    "#Modules"
   ]
  },
  {
   "cell_type": "code",
   "execution_count": 2,
   "metadata": {},
   "outputs": [
    {
     "name": "stdout",
     "output_type": "stream",
     "text": [
      "['__doc__', '__loader__', '__name__', '__package__', '__spec__', 'acos', 'acosh', 'asin', 'asinh', 'atan', 'atan2', 'atanh', 'ceil', 'comb', 'copysign', 'cos', 'cosh', 'degrees', 'dist', 'e', 'erf', 'erfc', 'exp', 'expm1', 'fabs', 'factorial', 'floor', 'fmod', 'frexp', 'fsum', 'gamma', 'gcd', 'hypot', 'inf', 'isclose', 'isfinite', 'isinf', 'isnan', 'isqrt', 'lcm', 'ldexp', 'lgamma', 'log', 'log10', 'log1p', 'log2', 'modf', 'nan', 'nextafter', 'perm', 'pi', 'pow', 'prod', 'radians', 'remainder', 'sin', 'sinh', 'sqrt', 'tan', 'tanh', 'tau', 'trunc', 'ulp']\n"
     ]
    }
   ],
   "source": [
    "import math\n",
    "print(dir(math))"
   ]
  },
  {
   "cell_type": "code",
   "execution_count": 3,
   "metadata": {},
   "outputs": [
    {
     "name": "stdout",
     "output_type": "stream",
     "text": [
      "15\n",
      "14\n",
      "3.8078865529319543\n",
      "2.6741486494265287\n"
     ]
    }
   ],
   "source": [
    "num = 14.5\n",
    "print(math.ceil(num))\n",
    "print(math.floor(num))\n",
    "print(math.sqrt(num))\n",
    "print(math.log(num))"
   ]
  },
  {
   "cell_type": "code",
   "execution_count": 4,
   "metadata": {},
   "outputs": [
    {
     "name": "stdout",
     "output_type": "stream",
     "text": [
      "['Counter', 'Decimal', 'Fraction', 'LinearRegression', 'NormalDist', 'StatisticsError', '__all__', '__builtins__', '__cached__', '__doc__', '__file__', '__loader__', '__name__', '__package__', '__spec__', '_coerce', '_convert', '_exact_ratio', '_fail_neg', '_find_lteq', '_find_rteq', '_isfinite', '_normal_dist_inv_cdf', '_ss', '_sum', 'bisect_left', 'bisect_right', 'correlation', 'covariance', 'erf', 'exp', 'fabs', 'fmean', 'fsum', 'geometric_mean', 'groupby', 'harmonic_mean', 'hypot', 'itemgetter', 'linear_regression', 'log', 'math', 'mean', 'median', 'median_grouped', 'median_high', 'median_low', 'mode', 'multimode', 'namedtuple', 'numbers', 'pstdev', 'pvariance', 'quantiles', 'random', 'repeat', 'sqrt', 'stdev', 'tau', 'variance']\n"
     ]
    }
   ],
   "source": [
    "import statistics as stat \n",
    "print(dir(stat))"
   ]
  },
  {
   "cell_type": "code",
   "execution_count": 5,
   "metadata": {},
   "outputs": [
    {
     "name": "stdout",
     "output_type": "stream",
     "text": [
      "55.642857142857146\n",
      "51.5\n",
      "45\n"
     ]
    }
   ],
   "source": [
    "numbers = [45,89,80,65,45,20,45,23,65,62,39,58,98,45]\n",
    "print(stat.mean(numbers))\n",
    "print(stat.median(numbers))\n",
    "print(stat.mode(numbers))"
   ]
  },
  {
   "cell_type": "code",
   "execution_count": 6,
   "metadata": {},
   "outputs": [
    {
     "name": "stdout",
     "output_type": "stream",
     "text": [
      "['BPF', 'LOG4', 'NV_MAGICCONST', 'RECIP_BPF', 'Random', 'SG_MAGICCONST', 'SystemRandom', 'TWOPI', '_ONE', '_Sequence', '_Set', '__all__', '__builtins__', '__cached__', '__doc__', '__file__', '__loader__', '__name__', '__package__', '__spec__', '_accumulate', '_acos', '_bisect', '_ceil', '_cos', '_e', '_exp', '_floor', '_index', '_inst', '_isfinite', '_log', '_os', '_pi', '_random', '_repeat', '_sha512', '_sin', '_sqrt', '_test', '_test_generator', '_urandom', '_warn', 'betavariate', 'choice', 'choices', 'expovariate', 'gammavariate', 'gauss', 'getrandbits', 'getstate', 'lognormvariate', 'normalvariate', 'paretovariate', 'randbytes', 'randint', 'random', 'randrange', 'sample', 'seed', 'setstate', 'shuffle', 'triangular', 'uniform', 'vonmisesvariate', 'weibullvariate']\n"
     ]
    }
   ],
   "source": [
    "import random\n",
    "print(dir(random))"
   ]
  },
  {
   "cell_type": "code",
   "execution_count": 8,
   "metadata": {},
   "outputs": [
    {
     "name": "stdout",
     "output_type": "stream",
     "text": [
      "[65, 23, 39, 45, 58, 20, 98, 45, 45, 65, 45, 80, 89, 62]\n"
     ]
    }
   ],
   "source": [
    "random.shuffle(numbers)\n",
    "print(numbers)"
   ]
  },
  {
   "cell_type": "code",
   "execution_count": 15,
   "metadata": {},
   "outputs": [
    {
     "data": {
      "text/plain": [
       "65"
      ]
     },
     "execution_count": 15,
     "metadata": {},
     "output_type": "execute_result"
    }
   ],
   "source": [
    "random.choice(numbers)"
   ]
  },
  {
   "cell_type": "code",
   "execution_count": 18,
   "metadata": {},
   "outputs": [
    {
     "data": {
      "text/plain": [
       "39"
      ]
     },
     "execution_count": 18,
     "metadata": {},
     "output_type": "execute_result"
    }
   ],
   "source": [
    "random.randint(10,40)"
   ]
  },
  {
   "cell_type": "code",
   "execution_count": 21,
   "metadata": {},
   "outputs": [
    {
     "name": "stdout",
     "output_type": "stream",
     "text": [
      "7 is a positive number\n"
     ]
    }
   ],
   "source": [
    "#Conditional statement\n",
    "num = int(input('Please provide a number:'))\n",
    "if num > 0:\n",
    "    print(f'{num} is a positive number')"
   ]
  },
  {
   "cell_type": "code",
   "execution_count": 22,
   "metadata": {},
   "outputs": [
    {
     "name": "stdout",
     "output_type": "stream",
     "text": [
      "0 is a negative number or zero\n"
     ]
    }
   ],
   "source": [
    "num = int(input('Please provide a number:'))\n",
    "if num > 0:\n",
    "    print(f'{num} is a positive number')\n",
    "else:\n",
    "    print(f'{num} is a negative number or zero')"
   ]
  },
  {
   "cell_type": "code",
   "execution_count": 24,
   "metadata": {},
   "outputs": [
    {
     "name": "stdout",
     "output_type": "stream",
     "text": [
      "Ade made a lost of -1900\n"
     ]
    }
   ],
   "source": [
    "#Exercise one\n",
    "#ade bought 8 banana for 800 each two got spoilt and he sold the remaning 6 at 750 each write a program to check if profit was made or lost was made\n",
    "cp = 8 * 800\n",
    "sp = 750 * 6\n",
    "\n",
    "if cp > sp:\n",
    "    print(f'Ade made a lost of {sp - cp}')\n",
    "else:\n",
    "    print(f'Ade made a profit of {sp - cp}')"
   ]
  },
  {
   "cell_type": "code",
   "execution_count": 27,
   "metadata": {},
   "outputs": [
    {
     "name": "stdout",
     "output_type": "stream",
     "text": [
      "0 is a Zero\n"
     ]
    }
   ],
   "source": [
    "num = int(input('Please provide a number:'))\n",
    "if num > 0:\n",
    "    print(f'{num} is a positive number')\n",
    "else:\n",
    "    if num < 0:\n",
    "        print(f'{num} is a negative number')\n",
    "    else:\n",
    "        print(f'{num} is  Zero')"
   ]
  },
  {
   "cell_type": "code",
   "execution_count": 29,
   "metadata": {},
   "outputs": [
    {
     "name": "stdout",
     "output_type": "stream",
     "text": [
      "-7 is a negative number\n"
     ]
    }
   ],
   "source": [
    "num = int(input('Please provide a number:'))\n",
    "if num > 0:\n",
    "    print(f'{num} is a positive number')\n",
    "elif  num < 0:\n",
    "     print(f'{num} is a negative number')\n",
    "else:\n",
    "    print(f'{num} is  Zero')"
   ]
  },
  {
   "cell_type": "code",
   "execution_count": 31,
   "metadata": {},
   "outputs": [
    {
     "name": "stdout",
     "output_type": "stream",
     "text": [
      "Your average score in the above subject is 62.75 your grade is B\n"
     ]
    }
   ],
   "source": [
    "sub1 = float(input('MathScore'))\n",
    "sub2 = float(input('EnglishScore'))\n",
    "sub3 = float(input('BiologyScore'))\n",
    "sub4 = float(input('ChemistryScore'))\n",
    "sub5 = float(input('PhysicsScore'))\n",
    "sub6 = float(input('AgricScore'))\n",
    "sub7 = float(input('EconomicsScore'))\n",
    "sub8 = float(input('GeographyScore'))\n",
    "\n",
    "Average_score = sum([sub1,sub2,sub3,sub4,sub5,sub6,sub7,sub8])/8\n",
    "if Average_score >= 70 and Average_score <= 100:\n",
    "    print(f'Your average score in the above subject is {Average_score} your grade is A')\n",
    "elif  Average_score >= 60 and Average_score <= 69.99:\n",
    "    print(f'Your average score in the above subject is {Average_score} your grade is B')\n",
    "elif  Average_score >= 50 and Average_score <= 59.99:\n",
    "    print(f'Your average score in the above subject is {Average_score} your grade is C')\n",
    "elif  Average_score >= 40 and Average_score <= 49.99:\n",
    "    print(f'Your average score in the above subject is {Average_score} your grade is D')\n",
    "elif  Average_score >= 31 and Average_score <= 39.99:\n",
    "    print(f'Your average score in the above subject is {Average_score} your grade is E')\n",
    "else:\n",
    "    print(f'Your average score in the above subject is {Average_score} your grade is F')"
   ]
  },
  {
   "cell_type": "code",
   "execution_count": null,
   "metadata": {},
   "outputs": [],
   "source": []
  }
 ],
 "metadata": {
  "kernelspec": {
   "display_name": "Python 3.10.4 64-bit",
   "language": "python",
   "name": "python3"
  },
  "language_info": {
   "codemirror_mode": {
    "name": "ipython",
    "version": 3
   },
   "file_extension": ".py",
   "mimetype": "text/x-python",
   "name": "python",
   "nbconvert_exporter": "python",
   "pygments_lexer": "ipython3",
   "version": "3.10.4"
  },
  "orig_nbformat": 4,
  "vscode": {
   "interpreter": {
    "hash": "97a318a1c10ea3cad32b5f740e8bef65bce9a717407c951d39899fa160feabd9"
   }
  }
 },
 "nbformat": 4,
 "nbformat_minor": 2
}
