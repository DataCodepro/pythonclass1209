{
 "cells": [
  {
   "cell_type": "code",
   "execution_count": 1,
   "metadata": {},
   "outputs": [],
   "source": [
    "import pymysql"
   ]
  },
  {
   "cell_type": "code",
   "execution_count": 2,
   "metadata": {},
   "outputs": [],
   "source": [
    "mydb = pymysql.connect(\n",
    "    host = 'localhost',\n",
    "    user = 'root',\n",
    "    password = 'seyilaw1'\n",
    ")\n",
    "mycursor = mydb.cursor()"
   ]
  },
  {
   "cell_type": "code",
   "execution_count": 3,
   "metadata": {},
   "outputs": [
    {
     "data": {
      "text/plain": [
       "1"
      ]
     },
     "execution_count": 3,
     "metadata": {},
     "output_type": "execute_result"
    }
   ],
   "source": [
    "mycursor.execute('create database greenwayschoolmanagementsystem')"
   ]
  },
  {
   "cell_type": "code",
   "execution_count": 5,
   "metadata": {},
   "outputs": [
    {
     "name": "stdout",
     "output_type": "stream",
     "text": [
      "('employeemanagementsystem',)\n",
      "('footballmanagementsystem',)\n",
      "('greenwayschoolmanagementsystem',)\n",
      "('information_schema',)\n",
      "('mysql',)\n",
      "('performance_schema',)\n",
      "('sakila',)\n",
      "('schoolmanagementsystem',)\n",
      "('shoprise',)\n",
      "('studentmanagementsystem',)\n",
      "('sys',)\n",
      "('world',)\n"
     ]
    }
   ],
   "source": [
    "mycursor.execute('show databases')\n",
    "for x in mycursor:\n",
    "    print(x)"
   ]
  },
  {
   "cell_type": "code",
   "execution_count": 6,
   "metadata": {},
   "outputs": [],
   "source": [
    "mydb = pymysql.connect(\n",
    "    host = 'localhost',\n",
    "    user = 'root',\n",
    "    password = 'seyilaw1',\n",
    "    database='greenwayschoolmanagementsystem'\n",
    ")\n",
    "mycursor = mydb.cursor()"
   ]
  },
  {
   "cell_type": "code",
   "execution_count": 7,
   "metadata": {},
   "outputs": [
    {
     "data": {
      "text/plain": [
       "0"
      ]
     },
     "execution_count": 7,
     "metadata": {},
     "output_type": "execute_result"
    }
   ],
   "source": [
    "mycursor.execute('show tables')"
   ]
  },
  {
   "cell_type": "code",
   "execution_count": 8,
   "metadata": {},
   "outputs": [
    {
     "data": {
      "text/plain": [
       "0"
      ]
     },
     "execution_count": 8,
     "metadata": {},
     "output_type": "execute_result"
    }
   ],
   "source": [
    "mycursor.execute('create table staffdetails(id int not null primary key,StaffName varchar(255) not null,staffgender varchar(10) not null,staffdob date not null)')"
   ]
  },
  {
   "cell_type": "code",
   "execution_count": 2,
   "metadata": {},
   "outputs": [
    {
     "name": "stdout",
     "output_type": "stream",
     "text": [
      "Your score in answering 10 questions is 45 in 60 seconds\n"
     ]
    }
   ],
   "source": [
    "import random\n",
    "import datetime\n",
    "score = 0\n",
    "timetaken = 0\n",
    "counter = 1 \n",
    "while counter <= 10:\n",
    "    num1 = random.randint(10,99)\n",
    "    num2 = random.randint(10,99)\n",
    "    starttime = datetime.datetime.now()\n",
    "    answer = int(input(f'{num1} + {num2}='))\n",
    "    if answer == sum([num1,num2]):\n",
    "        score +=5\n",
    "    else:\n",
    "        score +=0\n",
    "    stoptime = datetime.datetime.now()\n",
    "    diff = stoptime - starttime\n",
    "    timetaken += diff.seconds\n",
    "    counter += 1\n",
    "print(f'Your score in answering 10 questions is {score} in {timetaken} seconds')"
   ]
  },
  {
   "cell_type": "code",
   "execution_count": null,
   "metadata": {},
   "outputs": [],
   "source": []
  }
 ],
 "metadata": {
  "kernelspec": {
   "display_name": "Python 3.10.4 64-bit",
   "language": "python",
   "name": "python3"
  },
  "language_info": {
   "codemirror_mode": {
    "name": "ipython",
    "version": 3
   },
   "file_extension": ".py",
   "mimetype": "text/x-python",
   "name": "python",
   "nbconvert_exporter": "python",
   "pygments_lexer": "ipython3",
   "version": "3.10.4"
  },
  "orig_nbformat": 4,
  "vscode": {
   "interpreter": {
    "hash": "97a318a1c10ea3cad32b5f740e8bef65bce9a717407c951d39899fa160feabd9"
   }
  }
 },
 "nbformat": 4,
 "nbformat_minor": 2
}
