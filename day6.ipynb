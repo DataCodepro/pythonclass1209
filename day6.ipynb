{
 "cells": [
  {
   "cell_type": "code",
   "execution_count": 1,
   "metadata": {},
   "outputs": [],
   "source": [
    "#Functions"
   ]
  },
  {
   "cell_type": "code",
   "execution_count": 3,
   "metadata": {},
   "outputs": [
    {
     "name": "stdout",
     "output_type": "stream",
     "text": [
      "Welcome to python class\n"
     ]
    }
   ],
   "source": [
    "def greet():\n",
    "    print('Welcome to python class')\n",
    "greet()"
   ]
  },
  {
   "cell_type": "code",
   "execution_count": 5,
   "metadata": {},
   "outputs": [
    {
     "name": "stdout",
     "output_type": "stream",
     "text": [
      "Welcome to python class Simeon\n"
     ]
    }
   ],
   "source": [
    "def greet2(name):\n",
    "    print(f'Welcome to python class {name}')\n",
    "greet2('Simeon')"
   ]
  },
  {
   "cell_type": "code",
   "execution_count": 6,
   "metadata": {},
   "outputs": [
    {
     "name": "stdout",
     "output_type": "stream",
     "text": [
      "Welcome to python class Ade\n"
     ]
    }
   ],
   "source": [
    "greet2('Ade')"
   ]
  },
  {
   "cell_type": "code",
   "execution_count": 8,
   "metadata": {},
   "outputs": [
    {
     "name": "stdout",
     "output_type": "stream",
     "text": [
      "NAME:Simeon\n",
      "GENDER:Male\n",
      "AGE:40\n",
      "\n",
      "Congratulations you are eligible to vote\n"
     ]
    }
   ],
   "source": [
    "def vote_check(name,gender,age):\n",
    "    print(F'''NAME:{name}\n",
    "GENDER:{gender}\n",
    "AGE:{age}\n",
    "''')\n",
    "    if age >= 18:\n",
    "        print('Congratulations you are eligible to vote')\n",
    "    else:\n",
    "        print('Sorry you are not eligible to vote')\n",
    "vote_check('Simeon','Male',40)"
   ]
  },
  {
   "cell_type": "code",
   "execution_count": 9,
   "metadata": {},
   "outputs": [
    {
     "name": "stdout",
     "output_type": "stream",
     "text": [
      "NAME:Jane\n",
      "GENDER:Female\n",
      "AGE:17.5\n",
      "\n",
      "Sorry you are not eligible to vote\n"
     ]
    }
   ],
   "source": [
    "vote_check('Jane','Female',17.5)"
   ]
  },
  {
   "cell_type": "code",
   "execution_count": 11,
   "metadata": {},
   "outputs": [
    {
     "name": "stdout",
     "output_type": "stream",
     "text": [
      "NAME:Simeon\n",
      "GENDER:Male\n",
      "AGE:225\n",
      "\n",
      "Congratulations you are eligible to vote\n"
     ]
    }
   ],
   "source": [
    "def vote_check(name,gender,age = 18):\n",
    "    print(F'''NAME:{name}\n",
    "GENDER:{gender}\n",
    "AGE:{age}\n",
    "''')\n",
    "    if age >= 18:\n",
    "        print('Congratulations you are eligible to vote')\n",
    "    else:\n",
    "        print('Sorry you are not eligible to vote')\n",
    "vote_check('Simeon','Male',225)"
   ]
  },
  {
   "cell_type": "code",
   "execution_count": 14,
   "metadata": {},
   "outputs": [
    {
     "name": "stdout",
     "output_type": "stream",
     "text": [
      "<class 'tuple'>\n"
     ]
    },
    {
     "data": {
      "text/plain": [
       "'The average score for the following values (78, 98, 65, 23, 69, 89, 87, 52, 39, 68, 98, 59, 48, 74) is 67.64'"
      ]
     },
     "execution_count": 14,
     "metadata": {},
     "output_type": "execute_result"
    }
   ],
   "source": [
    "def average(*num):\n",
    "    print(type(num))\n",
    "    avg = sum(num)/len(num)\n",
    "    return f'The average score for the following values {num} is {round(avg,2)}'\n",
    "average(78,98,65,23,69,89,87,52,39,68,98,59,48,74)"
   ]
  },
  {
   "cell_type": "code",
   "execution_count": 15,
   "metadata": {},
   "outputs": [
    {
     "name": "stdout",
     "output_type": "stream",
     "text": [
      "<class 'tuple'>\n"
     ]
    },
    {
     "data": {
      "text/plain": [
       "'The average score for the following values (87, 90, 25, 65, 41, 23, 65, 89, 89, 74, 88, 58, 96, 85, 85, 95, 68, 85) is 72.67'"
      ]
     },
     "execution_count": 15,
     "metadata": {},
     "output_type": "execute_result"
    }
   ],
   "source": [
    "list_num = [87,90,25,65,41,23,65,89,89,74,88,58,96,85,85,95,68,85]\n",
    "average(*list_num)"
   ]
  },
  {
   "cell_type": "code",
   "execution_count": 19,
   "metadata": {},
   "outputs": [
    {
     "name": "stdout",
     "output_type": "stream",
     "text": [
      "<class 'dict'>\n",
      "Name::Ade\n",
      "Age::26\n",
      "Gender::Male\n"
     ]
    }
   ],
   "source": [
    "def records(**details):\n",
    "    print(type(details))\n",
    "    for key,value in details.items():\n",
    "        print(f'{key}::{value}')\n",
    "records(Name ='Ade',Age=26,Gender = \"Male\")"
   ]
  },
  {
   "cell_type": "code",
   "execution_count": 20,
   "metadata": {},
   "outputs": [],
   "source": [
    "#write a function to generate a random number and ask the user to guess,also write a condition to tell the user if the generated number is high or low\n",
    "\n",
    "#STOP BY 11:25"
   ]
  },
  {
   "cell_type": "code",
   "execution_count": 21,
   "metadata": {},
   "outputs": [
    {
     "name": "stdout",
     "output_type": "stream",
     "text": [
      "Guess is low\n",
      "Guess is high\n",
      "Congratulations you win\n"
     ]
    }
   ],
   "source": [
    "def guessing_game():\n",
    "    import random\n",
    "    correct_guess = random.randint(1,20)\n",
    "    guess_count = 0\n",
    "    guess_limit = 3\n",
    "    while guess_count <guess_limit:\n",
    "        guess = int(input('PLEASE GUESS THE CORRECT NUMBER BETWEEN 1 AND 20:'))\n",
    "        guess_count +=1\n",
    "        if guess > correct_guess:\n",
    "            print('Guess is high')\n",
    "        elif guess < correct_guess:\n",
    "            print('Guess is low')\n",
    "        elif guess == correct_guess:\n",
    "            print('Congratulations you win')\n",
    "            break\n",
    "    else:\n",
    "        print('Sorry you Failed')\n",
    "guessing_game()"
   ]
  },
  {
   "cell_type": "code",
   "execution_count": null,
   "metadata": {},
   "outputs": [],
   "source": []
  }
 ],
 "metadata": {
  "kernelspec": {
   "display_name": "Python 3.10.4 64-bit",
   "language": "python",
   "name": "python3"
  },
  "language_info": {
   "codemirror_mode": {
    "name": "ipython",
    "version": 3
   },
   "file_extension": ".py",
   "mimetype": "text/x-python",
   "name": "python",
   "nbconvert_exporter": "python",
   "pygments_lexer": "ipython3",
   "version": "3.10.4"
  },
  "orig_nbformat": 4,
  "vscode": {
   "interpreter": {
    "hash": "97a318a1c10ea3cad32b5f740e8bef65bce9a717407c951d39899fa160feabd9"
   }
  }
 },
 "nbformat": 4,
 "nbformat_minor": 2
}
